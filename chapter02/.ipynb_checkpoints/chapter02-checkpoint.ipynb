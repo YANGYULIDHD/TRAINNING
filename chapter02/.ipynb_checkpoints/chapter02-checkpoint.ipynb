{
 "cells": [
  {
   "cell_type": "code",
   "execution_count": 41,
   "id": "93b9805c",
   "metadata": {
    "ExecuteTime": {
     "end_time": "2023-04-21T11:35:16.170515Z",
     "start_time": "2023-04-21T11:35:16.158037Z"
    }
   },
   "outputs": [
    {
     "name": "stdout",
     "output_type": "stream",
     "text": [
      "2780\n",
      "    2780 popular-names.txt\n"
     ]
    }
   ],
   "source": [
    "#10\n",
    "with open('popular-names.txt') as file:\n",
    "    lines = file.readlines()\n",
    "\n",
    "print(len(lines))\n",
    "!wc -l popular-names.txt"
   ]
  },
  {
   "cell_type": "code",
   "execution_count": 14,
   "id": "19e6c525",
   "metadata": {},
   "outputs": [],
   "source": [
    "#11\n",
    "with open('popular-names.txt') as file:\n",
    "    with open('popular-names_11.txt', 'w') as new_file: \n",
    "        new_file.write(file.read().replace('\\t',\" \"))\n",
    "\n",
    "#!expand -t 1 popular-names.txt"
   ]
  },
  {
   "cell_type": "code",
   "execution_count": 36,
   "id": "e526ac65-9b39-4086-a98d-b93b115ac1a9",
   "metadata": {},
   "outputs": [],
   "source": [
    "#12\n",
    "with open('popular-names.txt') as file:\n",
    "    with open('col1.txt','w') as file1:\n",
    "        with open('col2.txt','w') as file2:\n",
    "            for line in file.readlines():\n",
    "                file1.write(line.split('\\t')[0])\n",
    "                file1.write('\\n')\n",
    "                file2.write(line.split('\\t')[1])\n",
    "                file2.write('\\n')\n",
    "\n",
    "#!cut -f 1 popular-names.txt\n",
    "#!cut -f 2 popular-names.txt"
   ]
  },
  {
   "cell_type": "code",
   "execution_count": 2,
   "id": "f9206bfa-53df-4633-b420-89a125514cd2",
   "metadata": {},
   "outputs": [],
   "source": [
    "#13\n",
    "with open('col1.txt') as file1:\n",
    "    with open('col2.txt') as file2:\n",
    "        with open('comb.txt','w') as file:\n",
    "            lines1 = file1.readlines()\n",
    "            lines2 = file2.readlines()\n",
    "            for i in range(2780):\n",
    "                file.write(lines1[i].replace('\\n','\\t'))\n",
    "                file.write(lines2[i])\n",
    "                \n",
    "#!paste col1.txt col2.txt"
   ]
  },
  {
   "cell_type": "code",
   "execution_count": 50,
   "id": "f8486bae",
   "metadata": {},
   "outputs": [
    {
     "name": "stdin",
     "output_type": "stream",
     "text": [
      "line: 2\n"
     ]
    },
    {
     "name": "stdout",
     "output_type": "stream",
     "text": [
      "Mary\tF\t7065\t1880\n",
      "Anna\tF\t2604\t1880\n"
     ]
    }
   ],
   "source": [
    "#14\n",
    "N = input(\"line:\")\n",
    "with open('popular-names.txt') as file:\n",
    "    lines = file.readlines()\n",
    "    for i in range(int(N)):\n",
    "        print(lines[i].replace('\\n',\"\"))\n",
    "#!head -n 2 popular-names.txt"
   ]
  },
  {
   "cell_type": "code",
   "execution_count": 55,
   "id": "03c61523-928c-4b39-901d-373f18292a8a",
   "metadata": {},
   "outputs": [
    {
     "name": "stdin",
     "output_type": "stream",
     "text": [
      "line: 2\n"
     ]
    },
    {
     "name": "stdout",
     "output_type": "stream",
     "text": [
      "Mason\tM\t12435\t2018\n",
      "Logan\tM\t12352\t2018\n"
     ]
    }
   ],
   "source": [
    "#15\n",
    "N = input(\"line:\")\n",
    "with open('popular-names.txt') as file:\n",
    "    lines = file.readlines()\n",
    "    for i in range(int(N)):\n",
    "        print(lines[len(lines)-int(N)+i].replace('\\n',\"\"))\n",
    "#!tail -n 2 popular-names.txt"
   ]
  },
  {
   "cell_type": "code",
   "execution_count": 126,
   "id": "e635be4f-6d11-458e-be06-3c44a49af05e",
   "metadata": {},
   "outputs": [
    {
     "name": "stdin",
     "output_type": "stream",
     "text": [
      "the number of pieces: 3\n"
     ]
    },
    {
     "name": "stdout",
     "output_type": "stream",
     "text": [
      "[927, 927, 926]\n"
     ]
    }
   ],
   "source": [
    "#16\n",
    "N = input(\"the number of files:\")\n",
    "with open('popular-names.txt') as file:\n",
    "    lines = file.readlines()\n",
    "    i = 0\n",
    "    num = [0]*int(N)\n",
    "    index = 0\n",
    "    while i<len(lines):\n",
    "        num[index] += 1\n",
    "        index = (index+1) % int(N)\n",
    "        i += 1\n",
    "    j = 0\n",
    "    for i in range(int(N)):\n",
    "        with open(f'split{i}.txt','w') as f:\n",
    "            for k in range(num[i]):\n",
    "                f.write(lines[j])\n",
    "                j += 1       \n",
    "print(num)\n",
    "#!split -l 927 popular-names.txt split.txt"
   ]
  },
  {
   "cell_type": "code",
   "execution_count": 110,
   "id": "cc19e201-5c2f-43ba-bdad-896a6a8d6165",
   "metadata": {},
   "outputs": [
    {
     "name": "stdout",
     "output_type": "stream",
     "text": [
      "['Abigail', 'Aiden', 'Alexander', 'Alexis', 'Alice', 'Amanda', 'Amelia', 'Amy', 'Andrew', 'Angela', 'Anna', 'Annie', 'Anthony', 'Ashley', 'Austin', 'Ava', 'Barbara', 'Benjamin', 'Bertha', 'Bessie', 'Betty', 'Brandon', 'Brian', 'Brittany', 'Carol', 'Carolyn', 'Charles', 'Charlotte', 'Chloe', 'Christopher', 'Clara', 'Crystal', 'Cynthia', 'Daniel', 'David', 'Deborah', 'Debra', 'Donald', 'Donna', 'Doris', 'Dorothy', 'Edward', 'Elijah', 'Elizabeth', 'Emily', 'Emma', 'Ethan', 'Ethel', 'Evelyn', 'Florence', 'Frances', 'Frank', 'Gary', 'George', 'Hannah', 'Harper', 'Harry', 'Heather', 'Helen', 'Henry', 'Ida', 'Isabella', 'Jacob', 'James', 'Jason', 'Jayden', 'Jeffrey', 'Jennifer', 'Jessica', 'Joan', 'John', 'Joseph', 'Joshua', 'Judith', 'Julie', 'Justin', 'Karen', 'Kathleen', 'Kelly', 'Kimberly', 'Larry', 'Laura', 'Lauren', 'Liam', 'Lillian', 'Linda', 'Lisa', 'Logan', 'Lori', 'Lucas', 'Madison', 'Margaret', 'Marie', 'Mark', 'Mary', 'Mason', 'Matthew', 'Megan', 'Melissa', 'Mia', 'Michael', 'Michelle', 'Mildred', 'Minnie', 'Nancy', 'Nicholas', 'Nicole', 'Noah', 'Oliver', 'Olivia', 'Pamela', 'Patricia', 'Rachel', 'Rebecca', 'Richard', 'Robert', 'Ronald', 'Ruth', 'Samantha', 'Sandra', 'Sarah', 'Scott', 'Sharon', 'Shirley', 'Sophia', 'Stephanie', 'Steven', 'Susan', 'Tammy', 'Taylor', 'Thomas', 'Tracy', 'Tyler', 'Virginia', 'Walter', 'William']\n"
     ]
    }
   ],
   "source": [
    "#17\n",
    "with open('popular-names.txt') as file:\n",
    "    lines = file.readlines()\n",
    "    first_word = [line.split('\\t')[0] for line in lines]\n",
    "    first_word = sorted(set(first_word))\n",
    "    print(first_word)\n",
    "\n",
    "#!cut -f 1 popular-names.txt | sort | uniq"
   ]
  },
  {
   "cell_type": "code",
   "execution_count": 99,
   "id": "6676a6be-3310-4f97-af60-faf088bf5617",
   "metadata": {},
   "outputs": [],
   "source": [
    "#18\n",
    "def takeThird(element):\n",
    "    return int(element[2])\n",
    "\n",
    "with open('popular-names.txt') as file:\n",
    "    with open('de_or.txt','w') as file1:\n",
    "        lines = file.readlines()\n",
    "        lines = [line.split('\\t') for line in lines]\n",
    "        lines.sort(key=takeThird, reverse=True)\n",
    "        lines = ['\\t'.join(line) for line in lines]\n",
    "        for line in lines:\n",
    "            file1.write(line)\n",
    "        \n",
    "#!sort -n -r popular-names.txt -k 3"
   ]
  },
  {
   "cell_type": "code",
   "execution_count": 115,
   "id": "04879ea0-71a0-430d-97ad-37b5cb687dd0",
   "metadata": {},
   "outputs": [
    {
     "name": "stdout",
     "output_type": "stream",
     "text": [
      "{'James': 118, 'William': 111, 'John': 108, 'Robert': 108, 'Mary': 92, 'Charles': 75, 'Michael': 74, 'Elizabeth': 73, 'Joseph': 70, 'Margaret': 60, 'George': 58, 'Thomas': 58, 'David': 57, 'Richard': 51, 'Helen': 45, 'Frank': 43, 'Christopher': 43, 'Anna': 41, 'Edward': 40, 'Ruth': 39, 'Patricia': 38, 'Matthew': 37, 'Dorothy': 36, 'Emma': 35, 'Barbara': 32, 'Daniel': 31, 'Joshua': 31, 'Sarah': 26, 'Linda': 26, 'Jennifer': 26, 'Emily': 26, 'Jessica': 25, 'Jacob': 25, 'Mildred': 24, 'Betty': 24, 'Susan': 24, 'Henry': 23, 'Ashley': 23, 'Nancy': 22, 'Andrew': 21, 'Florence': 20, 'Marie': 20, 'Donald': 20, 'Amanda': 20, 'Samantha': 19, 'Karen': 18, 'Lisa': 18, 'Melissa': 18, 'Madison': 18, 'Olivia': 18, 'Stephanie': 17, 'Abigail': 17, 'Ethel': 16, 'Sandra': 16, 'Mark': 16, 'Frances': 15, 'Carol': 15, 'Angela': 15, 'Michelle': 15, 'Heather': 15, 'Ethan': 15, 'Isabella': 15, 'Shirley': 14, 'Kimberly': 14, 'Amy': 14, 'Ava': 14, 'Virginia': 13, 'Deborah': 13, 'Brian': 13, 'Jason': 13, 'Nicole': 13, 'Hannah': 13, 'Sophia': 13, 'Minnie': 12, 'Bertha': 12, 'Donna': 12, 'Cynthia': 11, 'Alice': 10, 'Doris': 10, 'Ronald': 10, 'Brittany': 10, 'Nicholas': 10, 'Mia': 10, 'Noah': 10, 'Joan': 9, 'Debra': 9, 'Tyler': 9, 'Ida': 8, 'Clara': 8, 'Judith': 8, 'Taylor': 8, 'Alexis': 8, 'Alexander': 8, 'Mason': 8, 'Harry': 7, 'Sharon': 7, 'Steven': 7, 'Tammy': 7, 'Brandon': 7, 'Liam': 7, 'Anthony': 6, 'Annie': 5, 'Gary': 5, 'Jeffrey': 5, 'Jayden': 5, 'Charlotte': 5, 'Lillian': 4, 'Kathleen': 4, 'Justin': 4, 'Austin': 4, 'Chloe': 4, 'Benjamin': 4, 'Evelyn': 3, 'Megan': 3, 'Aiden': 3, 'Harper': 3, 'Elijah': 3, 'Bessie': 2, 'Larry': 2, 'Rebecca': 2, 'Lauren': 2, 'Amelia': 2, 'Logan': 2, 'Oliver': 2, 'Walter': 1, 'Carolyn': 1, 'Pamela': 1, 'Lori': 1, 'Laura': 1, 'Tracy': 1, 'Julie': 1, 'Scott': 1, 'Kelly': 1, 'Crystal': 1, 'Rachel': 1, 'Lucas': 1}\n"
     ]
    }
   ],
   "source": [
    "#19\n",
    "with open('popular-names.txt') as file:\n",
    "    lines = file.readlines()\n",
    "    names = [line.split('\\t')[0] for line in lines]\n",
    "    freq_dict = {}\n",
    "    for name in names:\n",
    "        freq_dict[name] = freq_dict.get(name,0) + 1\n",
    "    freq_dict = sorted(freq_dict.items(), key=lambda x:x[1], reverse=True)\n",
    "    freq_dict = dict(freq_dict)\n",
    "    print(freq_dict)\n",
    "\n",
    "#!cut -f 1 popular-names.txt | sort | uniq -c | sort -n -r -k 1 |"
   ]
  }
 ],
 "metadata": {
  "kernelspec": {
   "display_name": "Python 3 (ipykernel)",
   "language": "python",
   "name": "python3"
  },
  "language_info": {
   "codemirror_mode": {
    "name": "ipython",
    "version": 3
   },
   "file_extension": ".py",
   "mimetype": "text/x-python",
   "name": "python",
   "nbconvert_exporter": "python",
   "pygments_lexer": "ipython3",
   "version": "3.10.9"
  }
 },
 "nbformat": 4,
 "nbformat_minor": 5
}
