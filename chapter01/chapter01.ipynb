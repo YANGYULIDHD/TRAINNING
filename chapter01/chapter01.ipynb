{
 "cells": [
  {
   "cell_type": "code",
   "execution_count": 17,
   "id": "8b0c7ce3",
   "metadata": {},
   "outputs": [
    {
     "data": {
      "text/plain": [
       "'desserts'"
      ]
     },
     "execution_count": 17,
     "metadata": {},
     "output_type": "execute_result"
    }
   ],
   "source": [
    "a = \"stressed\"\n",
    "\n",
    "l,r = 0,len(a)-1\n",
    "a = list(a)\n",
    "while l<r:\n",
    "    a[l],a[r] = a[r],a[l]\n",
    "    l += 1\n",
    "    r -= 1\n",
    "a = \"\".join(a)\n",
    "\n",
    "a"
   ]
  },
  {
   "cell_type": "code",
   "execution_count": 31,
   "id": "04a170a5",
   "metadata": {},
   "outputs": [
    {
     "data": {
      "text/plain": [
       "' shoe'"
      ]
     },
     "execution_count": 31,
     "metadata": {},
     "output_type": "execute_result"
    }
   ],
   "source": [
    "a = \"schooled\"\n",
    "b = \" \"\n",
    "\n",
    "for i in range(0,7,2):\n",
    "    b += a[i]\n",
    "\n",
    "b    "
   ]
  },
  {
   "cell_type": "code",
   "execution_count": 21,
   "id": "f2188ddf",
   "metadata": {},
   "outputs": [
    {
     "data": {
      "text/plain": [
       "'schooled'"
      ]
     },
     "execution_count": 21,
     "metadata": {},
     "output_type": "execute_result"
    }
   ],
   "source": [
    "a = \"shoe\"\n",
    "b = \"cold\"\n",
    "c = \"\"\n",
    "\n",
    "for i in range(4):\n",
    "    c += a[i]\n",
    "    c += b[i]\n",
    "\n",
    "c"
   ]
  },
  {
   "cell_type": "code",
   "execution_count": 41,
   "id": "d21a639b",
   "metadata": {},
   "outputs": [
    {
     "name": "stdout",
     "output_type": "stream",
     "text": [
      "['Now', 'I', 'need', 'a', 'drink', 'alcoholic', 'of', 'course', 'after', 'the', 'heavy', 'lectures', 'involving', 'quantum', 'mechanics']\n",
      "[3, 1, 4, 1, 5, 9, 2, 6, 5, 3, 5, 8, 9, 7, 9]\n"
     ]
    }
   ],
   "source": [
    "a = \"Now I need a drink, alcoholic of course, after the heavy lectures involving quantum mechanics.\"\n",
    "\n",
    "a = a.replace(\",\",\"\").replace(\".\",\"\")\n",
    "a = a.split()\n",
    "b = [len(i) for i in a]\n",
    "#for i in range(len(a)):\n",
    "#    b[i] = len(a[i])\n",
    "print(a)\n",
    "print(b)"
   ]
  },
  {
   "cell_type": "code",
   "execution_count": 43,
   "id": "8ee457de",
   "metadata": {},
   "outputs": [
    {
     "name": "stdout",
     "output_type": "stream",
     "text": [
      "['Hi', 'He', 'Lied', 'Because', 'Boron', 'Could', 'Nou', 'Oxidize', 'Fluorine', 'New', 'Nations', 'Might', 'Also', 'Sign', 'Peace', 'Security', 'Clause', 'Arthur', 'King', 'Can']\n",
      "{'H': 1, 'He': 2, 'Li': 3, 'Be': 4, 'B': 5, 'C': 6, 'N': 7, 'O': 8, 'F': 9, 'Ne': 10, 'Na': 11, 'Mi': 12, 'Al': 13, 'Si': 14, 'P': 15, 'S': 16, 'Cl': 17, 'Ar': 18, 'K': 19, 'Ca': 20}\n"
     ]
    }
   ],
   "source": [
    "a = \"Hi He Lied Because Boron Could Nou Oxidize Fluorine. New Nations Might Also Sign Peace Security Clause. Arthur King Can.\"\n",
    "b = {}\n",
    "\n",
    "a = a.replace(\",\",\"\").replace(\".\",\"\")\n",
    "a = a.split()\n",
    "\n",
    "for i in range(len(a)):\n",
    "    if i+1 in [1,5,6,7,8,9,15,16,19]:\n",
    "        b[a[i][0]] = i+1\n",
    "    else:\n",
    "        b[a[i][0:2]] = i+1\n",
    "print(a)\n",
    "print(b)        "
   ]
  },
  {
   "cell_type": "code",
   "execution_count": 37,
   "id": "f9c86e03",
   "metadata": {},
   "outputs": [
    {
     "name": "stdout",
     "output_type": "stream",
     "text": [
      "['I ', ' a', 'am', 'm ', ' a', 'an', 'n ', ' N', 'NL', 'LP', 'Pe', 'er']\n",
      "['I am', 'am an', 'an NLPer']\n"
     ]
    }
   ],
   "source": [
    "def gram_1(a,n):\n",
    "    b = []\n",
    "    for i in range(len(a)-n+1):\n",
    "        b.append(a[i:i+n])\n",
    "    return b\n",
    "def gram_2(a,n):\n",
    "    b = []\n",
    "    a = a.replace(\",\",\"\").replace(\".\",\"\")\n",
    "    a = a.split()\n",
    "    for i in range(len(a)-n+1):\n",
    "        b.append(\" \".join(a[i:i+n])) \n",
    "    return b\n",
    "\n",
    "a = \"I am an NLPer\"\n",
    "print(gram_1(a,2))\n",
    "print(gram_2(a,2))    "
   ]
  },
  {
   "cell_type": "code",
   "execution_count": 39,
   "id": "e397ee1d",
   "metadata": {},
   "outputs": [
    {
     "name": "stdout",
     "output_type": "stream",
     "text": [
      "X_se\n",
      "Y_no_se\n"
     ]
    }
   ],
   "source": [
    "a = \"paraparaparadise\"\n",
    "b = \"paragraph\"\n",
    "X = set(gram_1(a,2))\n",
    "Y = set(gram_1(b,2))\n",
    "XY_U = X|Y\n",
    "XY_I = X&Y\n",
    "XY_D = X-Y\n",
    "if \"se\" in X:\n",
    "    print(\"X_se\")\n",
    "else:\n",
    "    print(\"X_no_se\")\n",
    "\n",
    "if \"se\" in Y:\n",
    "    print(\"Y_se\")\n",
    "else:\n",
    "    print(\"Y_no_se\")\n"
   ]
  },
  {
   "cell_type": "code",
   "execution_count": 42,
   "id": "0ce1c485",
   "metadata": {},
   "outputs": [
    {
     "name": "stdout",
     "output_type": "stream",
     "text": [
      "temperature is 22.4 at 12\n"
     ]
    }
   ],
   "source": [
    "def sentence(x,y,z):\n",
    "    x = str(x)\n",
    "    y = str(y)\n",
    "    z = str(z)\n",
    "    return y+\" \"+\"is\"+\" \"+z+\" \"+\"at\"+\" \"+x\n",
    "\n",
    "x=12\n",
    "y=\"temperature\"\n",
    "z=22.4\n",
    "print(sentence(x,y,z))"
   ]
  },
  {
   "cell_type": "code",
   "execution_count": 1,
   "id": "6aabc4e2",
   "metadata": {
    "ExecuteTime": {
     "start_time": "2023-04-21T11:30:26.568130Z",
     "end_time": "2023-04-21T11:30:26.571022Z"
    }
   },
   "outputs": [],
   "source": [
    "def cipher(a):\n",
    "    a = list(a)\n",
    "    for i in range(len(a)):\n",
    "        if a[i].islower:\n",
    "            a[i] = chr(219-ord(a[i]))\n",
    "    a = \"\".join(a)\n",
    "    return a"
   ]
  },
  {
   "cell_type": "code",
   "execution_count": 5,
   "id": "a875177e",
   "metadata": {},
   "outputs": [
    {
     "name": "stdout",
     "output_type": "stream",
     "text": [
      "I cnud'lot bvleeie that I cuold allautcy utadsnrned what I was rnidaeg : the paneehnmol power of the hmuan mdni.\n"
     ]
    }
   ],
   "source": [
    "import random\n",
    "\n",
    "def program(a):\n",
    "    a = a.split()\n",
    "    for i in range(len(a)):\n",
    "        if len(a[i])>4:\n",
    "            b = list(a[i])\n",
    "            temp = b[1:len(b)-1]\n",
    "            random.shuffle(temp)\n",
    "            b[1:len(b)-1] = temp\n",
    "            a[i] = \"\".join(b)\n",
    "    a = \" \".join(a)\n",
    "    return a\n",
    "\n",
    "a = \"I couldn't believe that I could actually understand what I was reading : the phenomenal power of the human mind.\"\n",
    "print(program(a))"
   ]
  }
 ],
 "metadata": {
  "kernelspec": {
   "display_name": "Python 3 (ipykernel)",
   "language": "python",
   "name": "python3"
  },
  "language_info": {
   "codemirror_mode": {
    "name": "ipython",
    "version": 3
   },
   "file_extension": ".py",
   "mimetype": "text/x-python",
   "name": "python",
   "nbconvert_exporter": "python",
   "pygments_lexer": "ipython3",
   "version": "3.10.9"
  }
 },
 "nbformat": 4,
 "nbformat_minor": 5
}
